{
 "cells": [
  {
   "cell_type": "code",
   "execution_count": 1,
   "metadata": {},
   "outputs": [],
   "source": [
    "import praw\n",
    "import re\n",
    "import json\n",
    "import numpy as np\n",
    "import pandas as pd\n",
    "from copy import deepcopy\n",
    "import pickle\n",
    "#Account Age\n",
    "import time\n",
    "from datetime import datetime\n",
    "\n",
    "from sqlalchemy import create_engine"
   ]
  },
  {
   "cell_type": "code",
   "execution_count": 2,
   "metadata": {},
   "outputs": [],
   "source": [
    "reddit = praw.Reddit(client_id = \"\",\n",
    "                    client_secret = \"\",\n",
    "                    user_agent=\"\",\n",
    "                    username = \"\",\n",
    "                    password = \"\")"
   ]
  },
  {
   "cell_type": "code",
   "execution_count": 3,
   "metadata": {},
   "outputs": [],
   "source": [
    "def scrape_submissions_1000():\n",
    "    sub_list = []\n",
    "    subreddit = reddit.subreddit('hardwareswap')\n",
    "    for submission in subreddit.new(limit=None):\n",
    "        author = str(submission.author)\n",
    "        dates = time.strftime('%m/%d/%Y', time.gmtime(submission.created_utc))\n",
    "        permalink = submission.permalink\n",
    "        text = submission.selftext\n",
    "        title = submission.title\n",
    "        pk = submission.id\n",
    "\n",
    "        sub_list.append([pk, dates, title, text, author, permalink])\n",
    "    df = pd.DataFrame(sub_list, columns=['id', 'date', 'title', 'text', 'author', 'link'])\n",
    "        \n",
    "    return df"
   ]
  },
  {
   "cell_type": "code",
   "execution_count": null,
   "metadata": {},
   "outputs": [],
   "source": [
    "df = scrape_submissions_1000()"
   ]
  },
  {
   "cell_type": "code",
   "execution_count": null,
   "metadata": {},
   "outputs": [],
   "source": [
    "def new_submissions(df):    \n",
    "    cur = cnx.cursor()\n",
    "    cur.execute(\"\"\"SELECT * FROM Submissions.submissions;\"\"\")\n",
    "    df_sql = pd.DataFrame(cur.fetchall())\n",
    "    df_sql.columns = [x[0] for x in cur.description]\n",
    "    df_sql.to_csv('/Users/eric/FlatIron/section01/Projects/reddit_scraper/db_backup/submission_sql_backup.csv')\n",
    "    new_submissions = df[~df['id'].isin(df_sql['id'])]\n",
    "    new_sub_list = new_submissions.values.tolist()\n",
    "    return new_sub_list, new_submissions"
   ]
  },
  {
   "cell_type": "code",
   "execution_count": null,
   "metadata": {},
   "outputs": [],
   "source": [
    "new_sub_list, new_submissions = new_submissions(df)"
   ]
  },
  {
   "cell_type": "code",
   "execution_count": null,
   "metadata": {},
   "outputs": [],
   "source": []
  },
  {
   "cell_type": "markdown",
   "metadata": {},
   "source": [
    "## SQL"
   ]
  },
  {
   "cell_type": "code",
   "execution_count": null,
   "metadata": {},
   "outputs": [],
   "source": [
    "cnx = mysql.connector.connect(\n",
    "        host = config.host,\n",
    "        user = config.user,\n",
    "        password = config.passwd,\n",
    "        database = config.db_name\n",
    ")\n",
    "\n",
    "print(cnx)\n",
    "cursor = cnx.cursor()"
   ]
  },
  {
   "cell_type": "code",
   "execution_count": null,
   "metadata": {},
   "outputs": [],
   "source": [
    "engine = create_engine(\"mysql+mysqlconnector://{user}:{pw}@{host}/{db}\"\n",
    "                       .format(user=config.user,\n",
    "                               pw=config.passwd,\n",
    "                               host=config.host,\n",
    "                               db=config.db_name))"
   ]
  },
  {
   "cell_type": "code",
   "execution_count": null,
   "metadata": {},
   "outputs": [],
   "source": [
    "# Insert whole DataFrame into MySQL\n",
    "new_submissions.to_sql('submissions', con = engine, if_exists = 'append')"
   ]
  },
  {
   "cell_type": "code",
   "execution_count": null,
   "metadata": {},
   "outputs": [],
   "source": []
  }
 ],
 "metadata": {
  "kernelspec": {
   "display_name": "learn-env",
   "language": "python",
   "name": "learn-env"
  },
  "language_info": {
   "codemirror_mode": {
    "name": "ipython",
    "version": 3
   },
   "file_extension": ".py",
   "mimetype": "text/x-python",
   "name": "python",
   "nbconvert_exporter": "python",
   "pygments_lexer": "ipython3",
   "version": "3.7.3"
  }
 },
 "nbformat": 4,
 "nbformat_minor": 2
}
