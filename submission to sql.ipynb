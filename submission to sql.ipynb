{
 "cells": [
  {
   "cell_type": "code",
   "execution_count": 1,
   "metadata": {},
   "outputs": [],
   "source": [
    "import praw\n",
    "import re\n",
    "import json\n",
    "import numpy as np\n",
    "import pandas as pd\n",
    "from copy import deepcopy\n",
    "import pickle\n",
    "#Account Age\n",
    "import time\n",
    "from datetime import datetime"
   ]
  },
  {
   "cell_type": "code",
   "execution_count": 2,
   "metadata": {},
   "outputs": [],
   "source": [
    "reddit = praw.Reddit(client_id = \"\",\n",
    "                    client_secret = \"\",\n",
    "                    user_agent=\"\",\n",
    "                    username = \"\",\n",
    "                    password = \"\")"
   ]
  },
  {
   "cell_type": "code",
   "execution_count": 3,
   "metadata": {},
   "outputs": [],
   "source": [
    "def scrape_submissions_1000():\n",
    "    sub_list = []\n",
    "    subreddit = reddit.subreddit('hardwareswap')\n",
    "    for submission in subreddit.new(limit=None):\n",
    "        author = str(submission.author)\n",
    "        dates = time.strftime('%m/%d/%Y', time.gmtime(submission.created_utc))\n",
    "        permalink = submission.permalink\n",
    "        text = submission.selftext\n",
    "        title = submission.title\n",
    "        pk = submission.id\n",
    "\n",
    "        sub_list.append([pk, dates, title, text, author, permalink])\n",
    "        \n",
    "    return sub_list"
   ]
  },
  {
   "cell_type": "code",
   "execution_count": null,
   "metadata": {},
   "outputs": [],
   "source": [
    "sub_list = scrape_submissions_1000()"
   ]
  },
  {
   "cell_type": "code",
   "execution_count": null,
   "metadata": {},
   "outputs": [],
   "source": [
    "df = pd.DataFrame(sub_list, columns=['id', 'date', 'title', 'text', 'author', 'link'])"
   ]
  },
  {
   "cell_type": "code",
   "execution_count": null,
   "metadata": {},
   "outputs": [],
   "source": [
    "df"
   ]
  }
 ],
 "metadata": {
  "kernelspec": {
   "display_name": "learn-env",
   "language": "python",
   "name": "learn-env"
  },
  "language_info": {
   "codemirror_mode": {
    "name": "ipython",
    "version": 3
   },
   "file_extension": ".py",
   "mimetype": "text/x-python",
   "name": "python",
   "nbconvert_exporter": "python",
   "pygments_lexer": "ipython3",
   "version": "3.7.3"
  }
 },
 "nbformat": 4,
 "nbformat_minor": 2
}
