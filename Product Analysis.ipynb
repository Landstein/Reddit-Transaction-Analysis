{
 "cells": [
  {
   "cell_type": "code",
   "execution_count": null,
   "metadata": {},
   "outputs": [],
   "source": [
    "import re\n",
    "import json\n",
    "import numpy as np\n",
    "import pandas as pd\n",
    "from copy import deepcopy\n",
    "#Account Age\n",
    "import time\n",
    "from datetime import datetime\n",
    "\n",
    "#SQL\n",
    "import mysql.connector \n",
    "from mysql.connector import errorcode\n",
    "import config\n",
    "import json\n",
    "\n",
    "import matplotlib.pyplot as plt"
   ]
  },
  {
   "cell_type": "code",
   "execution_count": null,
   "metadata": {},
   "outputs": [],
   "source": [
    "from nltk.corpus import stopwords\n",
    "from nltk.stem.wordnet import WordNetLemmatizer"
   ]
  },
  {
   "cell_type": "markdown",
   "metadata": {},
   "source": [
    "## Product Analysis \n",
    "\n",
    "1. look into trending products\n",
    "2. Find average price of trending products "
   ]
  },
  {
   "cell_type": "code",
   "execution_count": null,
   "metadata": {},
   "outputs": [],
   "source": [
    "pd.set_option('display.max_columns', None)"
   ]
  },
  {
   "cell_type": "code",
   "execution_count": null,
   "metadata": {},
   "outputs": [],
   "source": [
    "stop_words = stopwords.words('english')\n",
    "stop_words.extend(['Successful', 'sale', 'to', 'Sold', 'sold', 'an', 'Bought', 'a', 'from', 'purchased', 'some', 'cash', 'for', 'with', 'was', 'the', 'bought', 'it', 'is', 'Purchased', 'trade', 'Traded', 'great', 'new', \n",
    " 'shipping', 'received', 'my', 'of', 'supply', 'in', 'me', 'Confirmed', 'very', 'off', 'Great', 'broken', 'shipped',  \n",
    " 'traded', 'as', 'I', 'set', 'parts', 'on', 'locally', 'you', 'but', 'Thanks', 'Thanks!', 'Thank', 'used', ']', '[', '(', ')', ' Local Cash', ' PayPal', '  Paypal', ' Local', ' local cash', '  PayPal', ' Paypal', ' Cash', ' Local cash', ' cash', ' paypal', '  Local Cash', 'Trades', 'PayPal', 'Local', 'Cash', 'Paypal', 'local', ' paypal', 'Verified', ' Steam Link'] )"
   ]
  },
  {
   "cell_type": "code",
   "execution_count": null,
   "metadata": {},
   "outputs": [],
   "source": [
    "def text_process(mess):\n",
    "    lemmatizer = WordNetLemmatizer()\n",
    "    temp_list = []\n",
    "    for product in title:\n",
    "        product = product.split()\n",
    "        if word not in stop_words:\n",
    "            word = lemmatizer.lemmatize(word)\n",
    "            temp_list.append(word)\n",
    "            \n",
    "    return temp_list"
   ]
  },
  {
   "cell_type": "code",
   "execution_count": null,
   "metadata": {},
   "outputs": [],
   "source": [
    "def sql_to_df():\n",
    "    cnx = mysql.connector.connect(\n",
    "        host = config.host,\n",
    "        user = config.user,\n",
    "        password = config.passwd,\n",
    "        database = config.db_name\n",
    "    )\n",
    "    cur = cnx.cursor()\n",
    "    cur.execute(\"\"\"SELECT * FROM Submissions.submissions;\"\"\")\n",
    "    df_sql = pd.DataFrame(cur.fetchall())\n",
    "    df_sql.columns = [x[0] for x in cur.description]\n",
    "    df_sql.drop('index', axis=1, inplace=True)\n",
    "    cur.close()\n",
    "    cnx.close()\n",
    "    return df_sql"
   ]
  },
  {
   "cell_type": "code",
   "execution_count": null,
   "metadata": {},
   "outputs": [],
   "source": [
    "df = sql_to_df()"
   ]
  },
  {
   "cell_type": "code",
   "execution_count": null,
   "metadata": {},
   "outputs": [],
   "source": [
    "def clean_titles(df):\n",
    "    titles = df['title'].values.tolist()\n",
    "    \n",
    "    separate_titles = []\n",
    "    product_list = []\n",
    "    final_product_list = []\n",
    "    temp_string = ''\n",
    "    for title in titles:\n",
    "        new_string = re.sub(r'\\[.*?\\]', '', title)\n",
    "        if ',' in new_string:\n",
    "            separate_titles.append(new_string.split(','))\n",
    "        elif '|' in new_string:\n",
    "            new_string = new_string.replace('|', ',')\n",
    "            separate_titles.append(new_string.split(','))\n",
    "        else:\n",
    "            separate_titles.append([new_string])\n",
    "            \n",
    "    \n",
    "    for title in separate_titles:\n",
    "        for product in title:\n",
    "            product_list.append(product)\n",
    "            \n",
    "\n",
    "    lemmatizer = WordNetLemmatizer()\n",
    "    for product in product_list: \n",
    "        product = product.split()\n",
    "        for word in product:\n",
    "            if word not in stop_words:\n",
    "                word = lemmatizer.lemmatize(word)\n",
    "                temp_string += ' ' + word.lower()\n",
    "        if temp_string != '':\n",
    "            final_product_list.append(temp_string[1:])\n",
    "        temp_string = ''\n",
    "        \n",
    "    return final_product_list\n",
    "    "
   ]
  },
  {
   "cell_type": "code",
   "execution_count": null,
   "metadata": {},
   "outputs": [],
   "source": [
    "def search_products(product_name): \n",
    "    cnx = mysql.connector.connect(\n",
    "            host = config.host,\n",
    "            user = config.user,\n",
    "            password = config.passwd,\n",
    "            database = config.db_name\n",
    "        )\n",
    "    cur = cnx.cursor()\n",
    "    cur.execute(f\"\"\"SELECT * FROM Submissions.submissions\n",
    "                   WHERE title LIKE '%{product_name}%';\"\"\")\n",
    "    df_search = pd.DataFrame(cur.fetchall())\n",
    "    df_search.columns = [x[0] for x in cur.description]\n",
    "    df_search = df_search[['id', 'date', 'title', 'direction', 'text', 'link']]\n",
    "    cur.close()\n",
    "    cnx.close()\n",
    "    \n",
    "    return df_search"
   ]
  },
  {
   "cell_type": "code",
   "execution_count": null,
   "metadata": {},
   "outputs": [],
   "source": [
    "search_results = search_products('2080 super')"
   ]
  },
  {
   "cell_type": "code",
   "execution_count": null,
   "metadata": {},
   "outputs": [],
   "source": []
  },
  {
   "cell_type": "markdown",
   "metadata": {},
   "source": [
    "## Product Analysis\n",
    "#### GTX 1080 TI"
   ]
  },
  {
   "cell_type": "code",
   "execution_count": null,
   "metadata": {},
   "outputs": [],
   "source": [
    "def amt_of_products_selling(title):\n",
    "    have = title.find('[H]')\n",
    "    want = title.find('[W]')\n",
    "    products_title = title[have+3:want]\n",
    "    products_title = products_title.replace('|', ',')\n",
    "    if products_title.count(',') == 0:\n",
    "        return 1\n",
    "    else:\n",
    "        return products_title.count(',') + 1"
   ]
  },
  {
   "cell_type": "code",
   "execution_count": null,
   "metadata": {},
   "outputs": [],
   "source": [
    "def amt_of_products_buying(title):\n",
    "    want = title.find('[W]')\n",
    "    products_title = title[want+3:]\n",
    "    products_title = products_title.replace('|', ',')\n",
    "    if products_title.count(',') == 0:\n",
    "        return 1\n",
    "    else:\n",
    "        return products_title.count(',') + 1"
   ]
  },
  {
   "cell_type": "code",
   "execution_count": null,
   "metadata": {},
   "outputs": [],
   "source": [
    "def text_to_price(series):\n",
    "    body = series.replace('1080', '')\n",
    "    price = re.findall(r'[\\$\\£\\€](\\d+(?:\\.\\d{1,2})?)', body) or re.findall(r'[0-9]+', body)\n",
    "    price_list = close_numbers_gtx1080ti(price)\n",
    "    if price_list != []:\n",
    "        return round(mean(price_list), 2)\n",
    "    else:\n",
    "        return"
   ]
  },
  {
   "cell_type": "code",
   "execution_count": null,
   "metadata": {},
   "outputs": [],
   "source": [
    "def close_numbers_gtx1080ti(price_list): \n",
    "    c = 0 \n",
    "    final_price = []\n",
    "    for price in price_list: \n",
    "        price = float(price)\n",
    "        if price>= 400 and price<= 2000: \n",
    "            final_price.append(price) \n",
    "    return final_price "
   ]
  },
  {
   "cell_type": "code",
   "execution_count": null,
   "metadata": {},
   "outputs": [],
   "source": [
    "def product_analysis(product_name):\n",
    "    product_search = search_products(product_name)\n",
    "    selling = product_search[product_search['direction'] == 'SELLING']\n",
    "    buying = product_search[product_search['direction'] == 'BUYING']\n",
    "    \n",
    "    selling['product_num'] = selling['title'].apply(amt_of_products_selling)\n",
    "    buying['product_num'] = buying['title'].apply(amt_of_products_buying)\n",
    "    \n",
    "    buying1 = buying[buying['product_num'] == 1]\n",
    "    selling1 = selling[selling['product_num'] == 1]\n",
    "    \n",
    "    selling1['price'] = selling['text'].apply(text_to_price)\n",
    "    buying1['price'] = buying1['text'].apply(text_to_price)\n",
    "    \n",
    "    return selling1.dropna(), buying1.dropna()"
   ]
  },
  {
   "cell_type": "code",
   "execution_count": null,
   "metadata": {},
   "outputs": [],
   "source": []
  },
  {
   "cell_type": "code",
   "execution_count": null,
   "metadata": {},
   "outputs": [],
   "source": []
  },
  {
   "cell_type": "markdown",
   "metadata": {},
   "source": [
    "### Product Analysis 2\n",
    "\n",
    "Pull price information for products as submissions come in.  Overtime this will be a more efficient way to collect data rather then querying after data collect "
   ]
  },
  {
   "cell_type": "code",
   "execution_count": null,
   "metadata": {},
   "outputs": [],
   "source": [
    "# returns Dataframe of all submissions with only one product and their price \n",
    "# next step is to be able to determine prices for submissions with more than one product \n",
    "\n",
    "product_price_list = []\n",
    "product_list = []\n",
    "\n",
    "for index, row in df_selling_1.iterrows():\n",
    "#         print(row['title'], row['text'])\n",
    "    pk = row['id']\n",
    "    body_text = row['text']\n",
    "    prod_in_title = products_in_title_selling(row['title'])\n",
    "    product_list.append(prod_in_title)\n",
    "    price = re.search(r'[\\$\\£\\€](\\d+(?:\\.\\d{1,2})?)', body_text)\n",
    "    if price: \n",
    "        product_price_list.append([pk, prod_in_title[0], float(price.group()[1:])])\n",
    "    else:\n",
    "        continue\n",
    "        \n",
    "df_price = pd.DataFrame(product_price_list, columns=['id', 'product', 'price'])"
   ]
  },
  {
   "cell_type": "code",
   "execution_count": null,
   "metadata": {},
   "outputs": [],
   "source": []
  }
 ],
 "metadata": {
  "kernelspec": {
   "display_name": "Python 3",
   "language": "python",
   "name": "python3"
  },
  "language_info": {
   "codemirror_mode": {
    "name": "ipython",
    "version": 3
   },
   "file_extension": ".py",
   "mimetype": "text/x-python",
   "name": "python",
   "nbconvert_exporter": "python",
   "pygments_lexer": "ipython3",
   "version": "3.7.3"
  }
 },
 "nbformat": 4,
 "nbformat_minor": 2
}
