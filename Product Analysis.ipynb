{
 "cells": [
  {
   "cell_type": "code",
   "execution_count": null,
   "metadata": {},
   "outputs": [],
   "source": [
    "import re\n",
    "import json\n",
    "import numpy as np\n",
    "import pandas as pd\n",
    "from copy import deepcopy\n",
    "#Account Age\n",
    "import time\n",
    "from datetime import datetime\n",
    "\n",
    "#SQL\n",
    "import mysql.connector \n",
    "from mysql.connector import errorcode\n",
    "import config\n",
    "import json\n",
    "\n",
    "import matplotlib.pyplot as plt"
   ]
  },
  {
   "cell_type": "code",
   "execution_count": null,
   "metadata": {},
   "outputs": [],
   "source": [
    "from nltk.corpus import stopwords\n",
    "from nltk.stem.wordnet import WordNetLemmatizer"
   ]
  },
  {
   "cell_type": "markdown",
   "metadata": {},
   "source": [
    "## Product Analysis \n",
    "\n",
    "1. look into trending products\n",
    "2. Find average price of trending products "
   ]
  },
  {
   "cell_type": "code",
   "execution_count": null,
   "metadata": {},
   "outputs": [],
   "source": [
    "pd.set_option('display.max_columns', None)"
   ]
  },
  {
   "cell_type": "code",
   "execution_count": null,
   "metadata": {},
   "outputs": [],
   "source": [
    "stop_words = stopwords.words('english')\n",
    "stop_words.extend(['Successful', 'sale', 'to', 'Sold', 'sold', 'an', 'Bought', 'a', 'from', 'purchased', 'some', 'cash', 'for', 'with', 'was', 'the', 'bought', 'it', 'is', 'Purchased', 'trade', 'Traded', 'great', 'new', \n",
    " 'shipping', 'received', 'my', 'of', 'supply', 'in', 'me', 'Confirmed', 'very', 'off', 'Great', 'broken', 'shipped',  \n",
    " 'traded', 'as', 'I', 'set', 'parts', 'on', 'locally', 'you', 'but', 'Thanks', 'Thanks!', 'Thank', 'used', ']', '[', '(', ')', ' Local Cash', ' PayPal', '  Paypal', ' Local', ' local cash', '  PayPal', ' Paypal', ' Cash', ' Local cash', ' cash', ' paypal', '  Local Cash', 'Trades', 'PayPal', 'Local', 'Cash', 'Paypal', 'local', ' paypal', 'Verified', ' Steam Link'] )"
   ]
  },
  {
   "cell_type": "code",
   "execution_count": null,
   "metadata": {},
   "outputs": [],
   "source": [
    "def text_process(mess):\n",
    "    lemmatizer = WordNetLemmatizer()\n",
    "    temp_list = []\n",
    "    for product in title:\n",
    "        product = product.split()\n",
    "        if word not in stop_words:\n",
    "            word = lemmatizer.lemmatize(word)\n",
    "            temp_list.append(word)\n",
    "            \n",
    "    return temp_list"
   ]
  },
  {
   "cell_type": "code",
   "execution_count": null,
   "metadata": {},
   "outputs": [],
   "source": [
    "def sql_to_df():\n",
    "    cnx = mysql.connector.connect(\n",
    "        host = config.host,\n",
    "        user = config.user,\n",
    "        password = config.passwd,\n",
    "        database = config.db_name\n",
    "    )\n",
    "    cur = cnx.cursor()\n",
    "    cur.execute(\"\"\"SELECT * FROM Submissions.submissions;\"\"\")\n",
    "    df_sql = pd.DataFrame(cur.fetchall())\n",
    "    df_sql.columns = [x[0] for x in cur.description]\n",
    "    df_sql.drop('index', axis=1, inplace=True)\n",
    "    cur.close()\n",
    "    cnx.close()\n",
    "    return df_sql"
   ]
  },
  {
   "cell_type": "code",
   "execution_count": null,
   "metadata": {},
   "outputs": [],
   "source": [
    "df = sql_to_df()"
   ]
  },
  {
   "cell_type": "code",
   "execution_count": null,
   "metadata": {},
   "outputs": [],
   "source": [
    "def clean_titles(df):\n",
    "    titles = df['title'].values.tolist()\n",
    "    \n",
    "    separate_titles = []\n",
    "    product_list = []\n",
    "    final_product_list = []\n",
    "    temp_string = ''\n",
    "    for title in titles:\n",
    "        new_string = re.sub(r'\\[.*?\\]', '', title)\n",
    "        if ',' in new_string:\n",
    "            separate_titles.append(new_string.split(','))\n",
    "        elif '|' in new_string:\n",
    "            new_string = new_string.replace('|', ',')\n",
    "            separate_titles.append(new_string.split(','))\n",
    "        else:\n",
    "            separate_titles.append([new_string])\n",
    "            \n",
    "    \n",
    "    for title in separate_titles:\n",
    "        for product in title:\n",
    "            product_list.append(product)\n",
    "            \n",
    "\n",
    "    lemmatizer = WordNetLemmatizer()\n",
    "    for product in product_list: \n",
    "        product = product.split()\n",
    "        for word in product:\n",
    "            if word not in stop_words:\n",
    "                word = lemmatizer.lemmatize(word)\n",
    "                temp_string += ' ' + word.lower()\n",
    "        if temp_string != '':\n",
    "            final_product_list.append(temp_string[1:])\n",
    "        temp_string = ''\n",
    "        \n",
    "    return final_product_list\n",
    "    "
   ]
  }
 ],
 "metadata": {
  "kernelspec": {
   "display_name": "Python 3",
   "language": "python",
   "name": "python3"
  },
  "language_info": {
   "codemirror_mode": {
    "name": "ipython",
    "version": 3
   },
   "file_extension": ".py",
   "mimetype": "text/x-python",
   "name": "python",
   "nbconvert_exporter": "python",
   "pygments_lexer": "ipython3",
   "version": "3.7.3"
  }
 },
 "nbformat": 4,
 "nbformat_minor": 2
}
